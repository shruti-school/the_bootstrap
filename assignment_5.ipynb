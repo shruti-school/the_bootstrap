{
 "cells": [
  {
   "cell_type": "markdown",
   "id": "bdaeb5b9-a78d-4439-8372-341b3e8cc2ea",
   "metadata": {
    "pycharm": {
     "name": "#%% md\n"
    }
   },
   "source": [
    "# Assignment #5: Probability and Bootstrapping\n",
    "## Foundations of Machine Learning\n",
    "## ` ! git clone https://www.github.com/DS3001/the_bootstrap`\n",
    "## Do two."
   ]
  },
  {
   "cell_type": "markdown",
   "id": "59c5d151-f097-44d8-9952-740865be4e2b",
   "metadata": {
    "pycharm": {
     "name": "#%% md\n"
    }
   },
   "source": [
    "**Q1.** A die is fair if every face is equally likely. A die has six sides if it has six faces labelled 1, 2, ... , 6.\n",
    "\n",
    "1. Imagine rolling two dice, $d_1$ and $d_2$. Let $R_{min}$ be the lesser value of the two face values. What is the probability of getting a 1, 2, 3, 4, 5, or 6? Which values are more or less likely compared to the roll of a single six-sided die? What is the expected value of $R_{min}$? Plot the probability and cumulative distribution functions for $R_{min}$. Compute this by hand and simulate it using the law of large numbers.\n",
    "2. Imagine rolling three dice, $d_1$, $d_2$, and $d_3$. Let $R_{med}$ be the middle of the three face values. So if you roll 2, 3 and 4, the middle value is 3, and if you roll 2, 4, 4, the middle value is 4, and so on. What is the probability of getting a 1, 2, 3, 4, 5, or 6? Which values are more or less likely compared to the roll of a single six-sided die? What is the expected value of $R_{med}$? Plot the probability and cumulative distribution functions for $R_{med}$. I recommend using simulations and the law of large numbers.\n",
    "3. Imagine rolling a die. If you roll 1, 2, 3, 4, or 5, add that number to your total and stop; if you roll a six, add that number to your total and roll the die again. So you could roll, say, two sixes and then a four, and get a total of 16, or one three and get a total of 3, or twelve sixes and 1 and get 72, and so on. Write code to simulate this process, and determine its expected value using the law of large numbers. What is the probability of getting a total of 1, 2, 3, ... and so on, in your simulation? I recommend using simulations and the law of large numbers.  (Hint: The `while` loop might be useful in this case.)"
   ]
  },
  {
   "cell_type": "code",
   "execution_count": null,
   "outputs": [],
   "source": [
    "import numpy as np\n",
    "import matplotlib.pyplot as plt\n",
    "import pandas as pd\n",
    "import seaborn as sns\n",
    "\n",
    "faces = np.arange(1, 7)\n",
    "\n",
    "pdf = np.zeros(len(faces))\n",
    "for die1 in faces:\n",
    "    for die2 in faces:\n",
    "        minimum = min(die1, die2)\n",
    "        pdf[minimum - 1] += 1\n",
    "pdf /= 36\n",
    "\n",
    "cdf = np.cumsum(pdf)\n",
    "\n",
    "num_simulations = 1000\n",
    "rolls_die1 = np.random.choice(faces, size=num_simulations)\n",
    "rolls_die2 = np.random.choice(faces, size=num_simulations)\n",
    "min_values = np.minimum(rolls_die1, rolls_die2)\n",
    "\n",
    "empirical_cdf = np.array([np.mean(min_values <= x) for x in faces])\n",
    "\n",
    "plt.figure(figsize=(8, 6))\n",
    "plt.step(faces, empirical_cdf, label='Empirical CDF', color='green', where='mid')\n",
    "plt.plot(faces, cdf, label='Theoretical CDF', color='orange', marker='o')\n",
    "plt.xlabel(\"Minimum Value (M)\")\n",
    "plt.ylabel(\"Cumulative Probability\")\n",
    "plt.title(\"Comparison of Empirical and Theoretical CDFs\")\n",
    "plt.legend()\n",
    "plt.grid()\n",
    "plt.show()\n",
    "\n",
    "print(\"PDF (Theoretical):\", pdf)\n",
    "print(\"CDF (Theoretical):\", cdf)\n",
    "print(\"CDF (Empirical):\", empirical_cdf)"
   ],
   "metadata": {
    "collapsed": false,
    "pycharm": {
     "name": "#%%\n"
    }
   }
  },
  {
   "cell_type": "code",
   "execution_count": null,
   "outputs": [],
   "source": [
    "import numpy as np\n",
    "import matplotlib.pyplot as plt\n",
    "\n",
    "faces = np.array([1, 2, 3, 4, 5, 6])\n",
    "\n",
    "N = 5000\n",
    "rolls_die1 = np.random.choice(faces, size=N)\n",
    "rolls_die2 = np.random.choice(faces, size=N)\n",
    "rolls_die3 = np.random.choice(faces, size=N)\n",
    "\n",
    "middle_values = [int(np.median([rolls_die1[i], rolls_die2[i], rolls_die3[i]])) for i in range(N)]\n",
    "\n",
    "ecdf = np.array([(1 / N) * np.sum(np.array(middle_values) <= face) for face in faces])\n",
    "\n",
    "single_cdf = np.array([(1 / N) * np.sum(rolls_die1 <= face) for face in faces])\n",
    "\n",
    "expected_value = np.mean(middle_values)\n",
    "\n",
    "plt.figure(figsize=(8, 6))\n",
    "plt.plot(faces, ecdf, marker='o', linestyle='-', label='Median Value CDF', color='green')\n",
    "plt.plot(faces, single_cdf, marker='x', linestyle='--', label='Single Die CDF', color='blue')\n",
    "plt.xlabel(\"Value\")\n",
    "plt.ylabel(\"Cumulative Probability\")\n",
    "plt.title(\"CDF Comparison: Median vs Single Die Roll\")\n",
    "plt.legend()\n",
    "plt.grid()\n",
    "plt.show()\n",
    "\n",
    "# Output results\n",
    "print(f\"Expected Value of the Median: {expected_value:.4f}\")\n",
    "print(\"Empirical CDF (Median):\", ecdf)\n",
    "print(\"Empirical CDF (Single Die):\", single_cdf)\n"
   ],
   "metadata": {
    "collapsed": false,
    "pycharm": {
     "name": "#%%\n"
    }
   }
  },
  {
   "cell_type": "code",
   "execution_count": null,
   "outputs": [],
   "source": [
    "faces = np.array([1, 2, 3, 4, 5, 6])\n",
    "\n",
    "N = 50000\n",
    "results = []\n",
    "for _ in range(N):\n",
    "    total = 0\n",
    "    while True:\n",
    "        roll = np.random.choice(faces)\n",
    "        total += roll\n",
    "        if roll < 6:\n",
    "            results.append(total)\n",
    "            break\n",
    "\n",
    "results_df = pd.DataFrame(results, columns=['Total'])\n",
    "\n",
    "print(results_df.describe())\n",
    "\n",
    "plt.figure(figsize=(10, 5))\n",
    "sns.histplot(results_df['Total'], bins=30, kde=True, color='blue')\n",
    "plt.title('Histogram of Totals')\n",
    "plt.xlabel('Total')\n",
    "plt.ylabel('Frequency')\n",
    "plt.grid()\n",
    "plt.show()\n",
    "\n",
    "plt.figure(figsize=(10, 5))\n",
    "sns.ecdfplot(results_df['Total'], color='green')\n",
    "plt.title('Empirical CDF of Totals')\n",
    "plt.xlabel('Total')\n",
    "plt.ylabel('Cumulative Probability')\n",
    "plt.grid()\n",
    "plt.show()\n",
    "\n",
    "expected_value = results_df['Total'].mean()\n",
    "print(f\"Expected Value of Total: {expected_value:.4f}\")\n"
   ],
   "metadata": {
    "collapsed": false,
    "pycharm": {
     "name": "#%%\n"
    }
   }
  },
  {
   "cell_type": "markdown",
   "source": [
    "**Q2.** This question refers to the `mammogram.csv` data. It has two variables, `treatment` which takes the values `control` or `mammogram`, and `breast_cancer_death`, which takes the values `no` or `yes`. This is an experiment that followed 89,835 women for 25 years to see if mammograms were superior to more traditional breast cancer screenings in preventing breast cancer deaths.\n",
    "\n",
    "1. Cross tabulate `treatment` and `breast_cancer_death`. What is the difference in 25-year survival rates between the control and mammogram groups?\n",
    "2. Bootstrap the densities and distributions of survival rates for the two groups.\n",
    "3. Construct a 99% confidence interval for the difference in outcomes bewteen the two groups. Does it include zero?\n",
    "4. We're not doctors, these were just some intriguing data, and the information about the patients is extremely sparse. Why might these data over/understate the conclusions you've reached? What other data would you like to have to better understand or criticize your results?"
   ],
   "metadata": {
    "collapsed": false,
    "pycharm": {
     "name": "#%% md\n"
    }
   }
  },
  {
   "cell_type": "code",
   "execution_count": null,
   "outputs": [],
   "source": [
    "df = pd.read_csv('./data/mammogram.csv')\n",
    "\n",
    "print(pd.crosstab(df['treatment'], df['breast_cancer_death']), '\\n')\n",
    "print(pd.crosstab(df['treatment'], df['breast_cancer_death'], margins=True, normalize=True), '\\n')\n",
    "\n",
    "control_survival_rate = 44425 / 44925\n",
    "mammogram_survival_rate = 44405 / 44910\n",
    "raw_treatment_effect = mammogram_survival_rate - control_survival_rate\n",
    "print('Raw treatment effect: ', raw_treatment_effect)\n",
    "\n",
    "df['survive'] = (df['breast_cancer_death'] == 'no').astype(int)\n",
    "\n",
    "df_treat = df[df['treatment'] == 'mammogram']\n",
    "df_control = df[df['treatment'] == 'control']\n",
    "\n",
    "S = 5000\n",
    "bootstrap_differences = []\n",
    "for _ in range(S):\n",
    "    treat_sample = df_treat.sample(n=df_treat.shape[0], replace=True)\n",
    "    control_sample = df_control.sample(n=df_control.shape[0], replace=True)\n",
    "    treatment_effect = treat_sample['survive'].mean() - control_sample['survive'].mean()\n",
    "    bootstrap_differences.append(treatment_effect)\n",
    "\n",
    "sns.kdeplot(bootstrap_differences, color='blue')\n",
    "plt.title('Bootstrap Density of Treatment Effects')\n",
    "plt.xlabel('Difference in Survival Rates')\n",
    "plt.ylabel('Density')\n",
    "plt.grid()\n",
    "plt.show()\n",
    "\n",
    "sns.ecdfplot(bootstrap_differences, color='green')\n",
    "plt.title('Bootstrap ECDF of Treatment Effects')\n",
    "plt.xlabel('Difference in Survival Rates')\n",
    "plt.ylabel('Cumulative Probability')\n",
    "plt.grid()\n",
    "plt.show()\n",
    "\n",
    "lower_bound = np.quantile(bootstrap_differences, 0.005)\n",
    "upper_bound = np.quantile(bootstrap_differences, 0.995)\n",
    "print(f\"99% confidence interval: ({lower_bound:.5f}, {upper_bound:.5f})\")\n",
    "\n"
   ],
   "metadata": {
    "collapsed": false,
    "pycharm": {
     "name": "#%%\n"
    }
   }
  },
  {
   "cell_type": "markdown",
   "source": [
    "The 99% confidence interval includes zero, which suggests that getting a mammogram doesn’t lead to a statistically significant difference in 25-year survival rates. There are various questions that can be asked about how the data was collected and about the results. For example, are wealthier, healthier individuals were more likely to get mammograms, the treatment group might naturally have a lower prevalence of breast cancer, making mammograms seem less effective.\n",
    "\n",
    "We’d also need to consider other risk factors for breast cancer. While mammograms might not reduce mortality rates at the population level, they could be highly effective for certain subpopulations or high-risk groups. Plus, this analysis only focuses on mortality. Mammograms might improve quality of life in other ways, such as catching breast cancer earlier and reducing the need for intensive treatments like chemotherapy, even if survival rates are similar."
   ],
   "metadata": {
    "collapsed": false,
    "pycharm": {
     "name": "#%% md\n"
    }
   }
  },
  {
   "cell_type": "markdown",
   "source": [
    "# 4. Discussion\n",
    "print(\"Potential biases and limitations:\")\n",
    "print(\"1. Lack of patient demographic information such as age, genetics, or prior health conditions may lead to confounding factors.\")\n",
    "print(\"2. The data do not account for differences in the quality or timing of mammograms or other treatments.\")\n",
    "print(\"3. Results could overstate conclusions if other mortality causes are not controlled for.\")\n",
    "print(\"Additional data needed:\")\n",
    "print(\"1. Detailed patient demographics and health histories.\")\n",
    "print(\"2. Information on the timing and type of screenings.\")\n",
    "print(\"3. Broader context about other causes of death and overall healthcare access.\")\n"
   ],
   "metadata": {
    "collapsed": false,
    "pycharm": {
     "name": "#%% md\n"
    }
   }
  },
  {
   "cell_type": "markdown",
   "source": [
    "**Q3.** This question refers to the `diabetes_hw.csv` data. It contains two variables, `outcome` and `treatment`. Each is looking at whether an individual's diabetes was successfully treated (`outcome==success`) with `lifestyle` interventions like exercises and diets, a drug denoted by `met` (metformin), or a drug denoted by `rosi` (rosiglitazone), or not (`outcome==failure`). Treatment success means that the individual no longer needs to be treated with insulin, while failure means the patient still required insulin injections after treatment.\n",
    "\n",
    "1. Cross tabulate `treatment` and `outcome`.\n",
    "2. Compute the the proportion of successes for each treatment. Which treatment appears to be the most effective?\n",
    "3. Bootstrap the density and distribution of the proportion of successes for each interventions. Create empirical CDF and kernel density plots that are grouped  by treatment type. Which treatment appears to be the most effective?\n",
    "4. For each comparison (lifestyle versus met, met versus rosi, rosi versus lifestyle), bootstrap the distribution of the difference in outcomes. At the 90% level of confidence, which pairwise treatment comparisons are significantally different?\n",
    "5. Which treatment appears to be the most effective overall?"
   ],
   "metadata": {
    "collapsed": false,
    "pycharm": {
     "name": "#%% md\n"
    }
   }
  },
  {
   "cell_type": "markdown",
   "source": [
    "**Q4.** The goal of the question is to incorporate features/covariates/predictors/explanatory variables into the kind of treatment effect comparisons done in the previous questions. This question refers to the `heart_hw.csv` data. It contains three variables:\n",
    "\n",
    "  - `y`: Whether the individual survived, coded 0 for death and 1 for survival\n",
    "  - `age`: Patient's age\n",
    "  - `transplant`: `control` for not receiving a transplant and `treatment` for receiving a transplant\n",
    "\n",
    "1. Compute (a) the proportion of people who survive in the control group who do not receive a transplant, and (b) the difference between the proportion of people who survive in the treatment group and the proportion of people who survive in the control group (the average treatment effect).\n",
    "2. Regress `y` on `transplant` using a linear model. How does the constant/intercept of the regression and the coefficient on transplant compare to your answers from part 1? Explain carefully.\n",
    "3. We'd like to include `age` in the regression, since it's reasonable to expect that older patients are less likely to survive an extensive surgery like a heart transplant. Regress `y` on transplant, age, and transplant $\\times$ age. You can do this using a linear regression. How do the intercept and the coefficient on `transplanttreatment` change?\n",
    "4. Build a more flexible model that allows for non-linear age effects and interactions between age and treatment. Estimate the model, and plot the predicted survival probability by age, hued for people who receive a heart transplant and those who don't. Describe what you see.\n",
    "5. Imagine someone suggests using these kinds of models to select who receives organ transplants; perhaps the CDC or NIH starts using a scoring algorithm to decide who is contacted about a potential organ transplant. What are your concerns about how it is built and how it is deployed?"
   ],
   "metadata": {
    "collapsed": false,
    "pycharm": {
     "name": "#%% md\n"
    }
   }
  }
 ],
 "metadata": {
  "kernelspec": {
   "display_name": "Python 3 (ipykernel)",
   "language": "python",
   "name": "python3"
  },
  "language_info": {
   "codemirror_mode": {
    "name": "ipython",
    "version": 3
   },
   "file_extension": ".py",
   "mimetype": "text/x-python",
   "name": "python",
   "nbconvert_exporter": "python",
   "pygments_lexer": "ipython3",
   "version": "3.10.4"
  }
 },
 "nbformat": 4,
 "nbformat_minor": 5
}